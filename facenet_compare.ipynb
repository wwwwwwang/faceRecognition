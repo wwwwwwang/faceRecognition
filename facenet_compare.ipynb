{
 "cells": [
  {
   "cell_type": "code",
   "execution_count": 1,
   "metadata": {},
   "outputs": [
    {
     "name": "stderr",
     "output_type": "stream",
     "text": [
      "d:\\Users\\Madhouse\\Anaconda3\\lib\\site-packages\\h5py\\__init__.py:36: FutureWarning: Conversion of the second argument of issubdtype from `float` to `np.floating` is deprecated. In future, it will be treated as `np.float64 == np.dtype(float).type`.\n",
      "  from ._conv import register_converters as _register_converters\n"
     ]
    },
    {
     "name": "stdout",
     "output_type": "stream",
     "text": [
      "1.7.0\n"
     ]
    }
   ],
   "source": [
    "import numpy as np\n",
    "import tensorflow as tf\n",
    "\n",
    "import cv2\n",
    "import matplotlib.pyplot as plt\n",
    "%matplotlib inline\n",
    "import sys\n",
    "sys.path.append(r'D:\\Users\\Madhouse\\tensorflow\\yobiface\\src')\n",
    "import utils\n",
    "\n",
    "import os\n",
    "from os.path import join as pjoin\n",
    "import sys\n",
    "import copy\n",
    "import shutil\n",
    "import pickle\n",
    "\n",
    "print(tf.__version__)"
   ]
  },
  {
   "cell_type": "code",
   "execution_count": 2,
   "metadata": {},
   "outputs": [],
   "source": [
    "def load_all_pics(path):\n",
    "    data = {}\n",
    "    pics_ctr = 0\n",
    "    files= os.listdir(path)\n",
    "    for file in files: #遍历文件夹 \n",
    "        if not os.path.isdir(file): #判断是否是文件夹，不是文件夹才打开\n",
    "        #print(file)\n",
    "            person_dir = pjoin(path, file)\n",
    "            if(file.find(\".jpg\") > 0):\n",
    "                guy=file.split(\"/\")[-1][:-4]\n",
    "                #print(\"guy[%d]=%s\"%(pics_ctr,guy))\n",
    "                curr_pics = [utils.preproc(cv2.imread(person_dir))]\n",
    "                data[guy] = curr_pics\n",
    "                pics_ctr += len(curr_pics)\n",
    "    return data, pics_ctr"
   ]
  },
  {
   "cell_type": "code",
   "execution_count": 3,
   "metadata": {},
   "outputs": [
    {
     "name": "stdout",
     "output_type": "stream",
     "text": [
      "INFO:tensorflow:Restoring parameters from D:\\Users\\Madhouse\\tensorflow\\download\\20180402-114759\\model-20180402-114759.ckpt-275\n"
     ]
    }
   ],
   "source": [
    "tf.reset_default_graph()\n",
    "sess = tf.Session()\n",
    "saver = tf.train.import_meta_graph(r'D:\\Users\\Madhouse\\tensorflow\\download\\20180402-114759\\model-20180402-114759.meta')\n",
    "saver.restore(sess, r'D:\\Users\\Madhouse\\tensorflow\\download\\20180402-114759\\model-20180402-114759.ckpt-275')\n",
    "images_placeholder = tf.get_default_graph().get_tensor_by_name(\"input:0\")\n",
    "embeddings = tf.get_default_graph().get_tensor_by_name(\"embeddings:0\")\n",
    "phase_train_placeholder = tf.get_default_graph().get_tensor_by_name(\"phase_train:0\")"
   ]
  },
  {
   "cell_type": "code",
   "execution_count": 31,
   "metadata": {},
   "outputs": [
    {
     "name": "stdout",
     "output_type": "stream",
     "text": [
      "Loaded 3 pics.\n",
      "Images:\n",
      " yue_1\n",
      " yue_2\n",
      " yue_3\n",
      "\n",
      "Distance matrix\n",
      "           yue_1      yue_2      yue_3 \n",
      "yue_1      0.0000      0.8892      0.6402  \n",
      "yue_2      0.8892      0.0000      0.9954  \n",
      "yue_3      0.6402      0.9954      0.0000  \n"
     ]
    }
   ],
   "source": [
    "DATA_DIR = r'D:\\software\\myphotobase\\yue'\n",
    "data, n_pics = load_all_pics(DATA_DIR)\n",
    "print('Loaded %d pics.' % n_pics)\n",
    "\n",
    "test_dict = {}\n",
    "for p in data:\n",
    "    test_dict[p] = list(sess.run([embeddings], feed_dict={images_placeholder: np.array(data[p]), phase_train_placeholder: False })[0])\n",
    "\n",
    "print('Images:')\n",
    "for g in test_dict.keys():\n",
    "    print(' %s' % g)\n",
    "    #print(test_dict[g])\n",
    "print('')\n",
    "\n",
    "#print(test_dict)\n",
    "\n",
    "# Print distance matrix\n",
    "print('Distance matrix')\n",
    "print('      ', end='')\n",
    "for i in test_dict.keys():\n",
    "    print('     %s ' % i, end='')\n",
    "print('')\n",
    "for i in test_dict.keys():\n",
    "    print('%s  ' % i, end='')\n",
    "    for j in test_dict.keys():\n",
    "        #dist = np.sqrt(np.sum(np.square(np.subtract(emb[i,:], emb[j,:]))))\n",
    "        dist = np.linalg.norm(np.array(test_dict[i]) - np.array(test_dict[j]))\n",
    "        print('    %1.4f  ' % dist, end='')\n",
    "    print('')"
   ]
  }
 ],
 "metadata": {
  "kernelspec": {
   "display_name": "Python 3",
   "language": "python",
   "name": "python3"
  },
  "language_info": {
   "codemirror_mode": {
    "name": "ipython",
    "version": 3
   },
   "file_extension": ".py",
   "mimetype": "text/x-python",
   "name": "python",
   "nbconvert_exporter": "python",
   "pygments_lexer": "ipython3",
   "version": "3.6.4"
  }
 },
 "nbformat": 4,
 "nbformat_minor": 2
}
